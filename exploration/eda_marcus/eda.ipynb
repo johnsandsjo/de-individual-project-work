{
 "cells": [
  {
   "cell_type": "markdown",
   "id": "6b308c50",
   "metadata": {},
   "source": [
    "# EDA jobsearch about Säkerhet och bevakning"
   ]
  },
  {
   "cell_type": "code",
   "execution_count": null,
   "id": "c8b34967",
   "metadata": {},
   "outputs": [],
   "source": [
    "import requests \n",
    "import json \n",
    "\n",
    "\n",
    "url = \"https://jobsearch.api.jobtechdev.se\"\n",
    "url_for_search = f\"{url}/search\"\n",
    "\n",
    "\n",
    "def _get_ads(params):\n",
    "    headers = {'accept': 'application/json'}\n",
    "    response = requests.get(url_for_search, headers=headers, params=params)\n",
    "    response.raise_for_status()  # check for http errors\n",
    "    return json.loads(response.content.decode('utf8'))\n",
    "\n",
    "\n",
    "def example_search_return_number_of_hits(query):\n",
    "    # limit: 0 means no ads, just a value of how many ads were found.\n",
    "    search_params = {'q': query, 'limit': 0}\n",
    "    json_response = _get_ads(search_params)\n",
    "    number_of_hits = json_response['total']['value']\n",
    "    print(f\"\\nNumber of hits = {number_of_hits}\")\n",
    "\n",
    "\n",
    "def example_search_loop_through_hits(query):\n",
    "    # limit = 100 is the max number of hits that can be returned.\n",
    "    # If there are more (which you find with ['total']['value'] in the json response)\n",
    "    # you have to use offset and multiple requests to get all ads.\n",
    "    search_params = {'q': query, 'limit': 100}\n",
    "    json_response = _get_ads(search_params)\n",
    "    hits = json_response['hits']\n",
    "    for hit in hits:\n",
    "        print(f\"{hit['headline']}, {hit['employer']['name']}\")\n",
    "\n",
    "\n",
    "if __name__ == '__main__':\n",
    "    query = 'säkerhet och bevakning'\n",
    "    example_search_loop_through_hits(query)\n",
    "    example_search_return_number_of_hits(query)\n",
    "    \n",
    "    "
   ]
  },
  {
   "cell_type": "code",
   "execution_count": null,
   "id": "e8b1888b",
   "metadata": {},
   "outputs": [],
   "source": [
    "search_params = {'q': query, 'limit': 100}\n",
    "json_response = _get_ads(search_params)\n",
    "\n",
    "json_response.keys()"
   ]
  },
  {
   "cell_type": "code",
   "execution_count": null,
   "id": "610f0d4e",
   "metadata": {},
   "outputs": [],
   "source": [
    "type(json_response)"
   ]
  },
  {
   "cell_type": "code",
   "execution_count": null,
   "id": "14ef8acb",
   "metadata": {},
   "outputs": [],
   "source": [
    "json_response[\"hits\"]"
   ]
  },
  {
   "cell_type": "code",
   "execution_count": null,
   "id": "558a2a98",
   "metadata": {},
   "outputs": [],
   "source": [
    "json_response[\"hits\"][5][\"headline\"], json_response[\"hits\"][5][\"number_of_vacancies\"], json_response[\"hits\"][5][\"salary_type\"][\"label\"]"
   ]
  },
  {
   "cell_type": "code",
   "execution_count": null,
   "id": "7b8d4031",
   "metadata": {},
   "outputs": [],
   "source": [
    "json_response[\"hits\"][0][\"employer\"]"
   ]
  },
  {
   "cell_type": "code",
   "execution_count": null,
   "id": "694afe4d",
   "metadata": {},
   "outputs": [],
   "source": [
    "json_response[\"hits\"][0].keys()"
   ]
  },
  {
   "cell_type": "code",
   "execution_count": null,
   "id": "1c912fb4",
   "metadata": {},
   "outputs": [],
   "source": [
    "json_response[\"hits\"][-1][\"employer\"]"
   ]
  },
  {
   "cell_type": "code",
   "execution_count": null,
   "id": "e51bd137",
   "metadata": {},
   "outputs": [],
   "source": [
    "json_response[\"hits\"]\n",
    "\n",
    "name = []\n",
    "for i in json_response[\"hits\"]:\n",
    "    name.append(i[\"employment_type\"][\"label\"])\n",
    "\n",
    "\n",
    "print(name)\n",
    "\n",
    "    "
   ]
  },
  {
   "cell_type": "code",
   "execution_count": null,
   "id": "a4c9ff7e",
   "metadata": {},
   "outputs": [],
   "source": [
    "from pandas import json_normalize\n",
    "import pandas as pd\n",
    "data = json_response[\"hits\"]\n",
    "df = pd.json_normalize(data)\n",
    "df.head()"
   ]
  },
  {
   "cell_type": "code",
   "execution_count": null,
   "id": "c54ed62d",
   "metadata": {},
   "outputs": [],
   "source": [
    "new_df = df[[\"id\", \"employer.name\", \"employer.workplace\", \"workplace_address.country\", \"number_of_vacancies\", \"timestamp\", \"occupation.label\", \"workplace_address.region\"]]\n",
    "\n",
    "new_df.head()"
   ]
  },
  {
   "cell_type": "code",
   "execution_count": null,
   "id": "59227ac8",
   "metadata": {},
   "outputs": [],
   "source": [
    "new_df.info()"
   ]
  },
  {
   "cell_type": "code",
   "execution_count": null,
   "id": "b6f83332",
   "metadata": {},
   "outputs": [],
   "source": [
    "\n",
    "# using groupby and sort to get out number available vacacancies\n",
    "top_10_vacancies = new_df.groupby(\"employer.name\")[\"number_of_vacancies\"].sum().sort_values(ascending= False).reset_index(name= \"number_vacancies\")\n",
    "\n",
    "top_10_vacancies = top_10_vacancies.head(10)\n",
    "top_10_vacancies"
   ]
  },
  {
   "cell_type": "markdown",
   "id": "fce664bc",
   "metadata": {},
   "source": [
    "# Geojson data: get name and länskod"
   ]
  },
  {
   "cell_type": "code",
   "execution_count": null,
   "id": "94e2f6f3",
   "metadata": {},
   "outputs": [],
   "source": [
    "from pathlib import Path\n",
    "import json\n",
    "\n",
    "working_directory = Path.cwd().parent.parent\n",
    "\n",
    "path_geojson = working_directory / \"geojson_data\"\n",
    "\n",
    "\n",
    "\n",
    "with open(path_geojson / \"swedish_regions.geojson\", \"r\", encoding= \"utf-8\") as file:\n",
    "    json_data = json.load(file)\n",
    "    \n",
    "    \n",
    "# json_data"
   ]
  },
  {
   "cell_type": "code",
   "execution_count": null,
   "id": "763c769b",
   "metadata": {},
   "outputs": [],
   "source": [
    "def region_code(geojson):\n",
    "\n",
    "    properties = [property.get(\"properties\") for property in geojson.get(\"features\")]\n",
    "\n",
    "    region_länskod = {name_code.get(\"name\"): name_code.get(\"ref:se:länskod\")for name_code in properties}\n",
    "    \n",
    "    return region_länskod"
   ]
  },
  {
   "cell_type": "code",
   "execution_count": null,
   "id": "09936ffb",
   "metadata": {},
   "outputs": [],
   "source": [
    "print(region_code(geojson= json_data))"
   ]
  },
  {
   "cell_type": "markdown",
   "id": "75fab407",
   "metadata": {},
   "source": [
    "# Bring data from database from snowflake"
   ]
  },
  {
   "cell_type": "code",
   "execution_count": null,
   "id": "3b7b631f",
   "metadata": {},
   "outputs": [],
   "source": [
    "from dotenv import load_dotenv\n",
    "import os \n",
    "import pandas as pd \n",
    "from snowflake.connector import connect\n",
    "\n",
    "load_dotenv()\n",
    "\n",
    "def data_snowflake(occupation_field):\n",
    "    with connect(\n",
    "        user = os.getenv(\"SNOWFLAKE_USER\"),\n",
    "        password = os.getenv(\"SNOWFLAKE_PASSWORD\"),\n",
    "        account = os.getenv(\"SNOWFLAKE_ACCOUNT\"),\n",
    "        warehous = os.getenv(\"SNOWFLAKE_WAREHOUSE\"),\n",
    "        database = os.getenv(\"SNOWFLAKE_DATABASE\"),\n",
    "        schema = os.getenv(\"SNOWFLAKE_SCHEMA\"),\n",
    "        role = os.getenv(\"SNOWFLAKE_ROLE\")\n",
    "    ) as conn:\n",
    "        \n",
    "        if occupation_field == \"data/it\":\n",
    "            query = 'SELECT * FROM mart_data_it'\n",
    "        elif occupation_field == \"säkerhet och bevakning\":\n",
    "            query = 'SELECT * FROM mart_safety'\n",
    "        elif occupation_field == \"yrken med social inriktning\":\n",
    "            query = 'SELECT * FROM mart_social_work'\n",
    "        \n",
    "        df = pd.read_sql(query, conn)\n",
    "    \n",
    "        return df "
   ]
  },
  {
   "cell_type": "code",
   "execution_count": null,
   "id": "9ccf6bf4",
   "metadata": {},
   "outputs": [],
   "source": [
    "data_it = data_snowflake(\"data/it\")"
   ]
  },
  {
   "cell_type": "code",
   "execution_count": null,
   "id": "b3bf39ac",
   "metadata": {},
   "outputs": [],
   "source": [
    "data_it.groupby(\"WORKPLACE_REGION\")[\"NUMBER_OF_VACANCIES\"].sum()"
   ]
  },
  {
   "cell_type": "code",
   "execution_count": null,
   "id": "db96d75a",
   "metadata": {},
   "outputs": [],
   "source": [
    "data_it[data_it[\"WORKPLACE_REGION\"] == \"ej specificerad\"][\"NUMBER_OF_VACANCIES\"].sum()"
   ]
  },
  {
   "cell_type": "code",
   "execution_count": null,
   "id": "56f2aa18",
   "metadata": {},
   "outputs": [],
   "source": [
    "data_it.query(\"WORKPLACE_REGION == 'ej specificerad'\")[\"NUMBER_OF_VACANCIES\"].sum()"
   ]
  },
  {
   "cell_type": "code",
   "execution_count": null,
   "id": "b1df83c8",
   "metadata": {},
   "outputs": [],
   "source": [
    "\n",
    "\n",
    "def region_vacancies(occupation, json_data = json_data):\n",
    "    \n",
    "    df_occupation = data_snowflake(occupation_field= occupation)\n",
    "    \n",
    "    \n",
    "    df_region_vacancies = df_occupation[[\"WORKPLACE_REGION\", \"NUMBER_OF_VACANCIES\"]]\n",
    "    \n",
    "    df = df_region_vacancies.groupby(\"WORKPLACE_REGION\")[\"NUMBER_OF_VACANCIES\"].sum().reset_index(name=\"VACANCIES\").sort_values(by= \"VACANCIES\").reset_index(drop=True)\n",
    "    \n",
    "    df = df.drop(index=[\"ej specificerad\"], errors= \"ignore\").reset_index(drop= True)\n",
    "    \n",
    "    # if one or more region dosen't have any data, this is a safty to make sure i set them to zero\n",
    "    missing_data = pd.DataFrame({\n",
    "        \"WORKPLACE_REGION\": region_code(json_data).keys()\n",
    "    })\n",
    "    \n",
    "    df_merge = missing_data.merge(df, on= \"WORKPLACE_REGION\", how= \"left\")\n",
    "    \n",
    "    df_merge[\"VACANCIES\"] = df_merge[\"VACANCIES\"].fillna(0).astype(int)\n",
    "    \n",
    "    \n",
    "    \n",
    "    \n",
    "    return df_merge"
   ]
  },
  {
   "cell_type": "code",
   "execution_count": null,
   "id": "01b0b81e",
   "metadata": {},
   "outputs": [],
   "source": [
    "df_data_it = region_vacancies(occupation= \"data/it\") \n",
    "\n",
    "type(df_data_it)"
   ]
  },
  {
   "cell_type": "code",
   "execution_count": null,
   "id": "ce0638f2",
   "metadata": {},
   "outputs": [],
   "source": [
    "df_data_it"
   ]
  },
  {
   "cell_type": "markdown",
   "id": "6026627c",
   "metadata": {},
   "source": [
    "# Use difflib and function get_close_matches"
   ]
  },
  {
   "cell_type": "code",
   "execution_count": null,
   "id": "cc30e9c7",
   "metadata": {},
   "outputs": [],
   "source": [
    "from difflib import get_close_matches\n",
    "\n",
    "def get_matches(occupation, json_data= json_data):\n",
    "    \n",
    "    df_occupation = region_code(geojson= json_data)\n",
    "    \n",
    "    # get all region in a list\n",
    "    regions = region_vacancies(occupation= occupation, json_data=json_data)[\"WORKPLACE_REGION\"].values\n",
    "    \n",
    "    \n",
    "    region_code_map = []\n",
    "    for region in regions:\n",
    "\n",
    "        name_macthes = get_close_matches(region, df_occupation.keys(), n= 1)[0]\n",
    "        code = df_occupation[name_macthes]\n",
    "        region_code_map.append(code)\n",
    "        \n",
    "            \n",
    "        \n",
    "        \n",
    "    return region_code_map"
   ]
  },
  {
   "cell_type": "code",
   "execution_count": null,
   "id": "8c474e22",
   "metadata": {},
   "outputs": [],
   "source": [
    "print(region_code(geojson= json_data))\n",
    "\n",
    "print(get_matches(occupation= \"data/it\"))\n",
    "\n",
    "print(df_data_it[\"WORKPLACE_REGION\"].values)"
   ]
  },
  {
   "cell_type": "markdown",
   "id": "034cc2d5",
   "metadata": {},
   "source": [
    "# create choropleth map"
   ]
  },
  {
   "cell_type": "code",
   "execution_count": null,
   "id": "055e981b",
   "metadata": {},
   "outputs": [],
   "source": [
    "# make value  colorscale logarithmic\n",
    "import numpy as np\n",
    "def log_value(df, value):\n",
    "    \n",
    "\n",
    "    \n",
    "    df[\"LOG_VALUE\"] = np.log(df[value] + 1)\n",
    "    \n",
    "    return df[\"LOG_VALUE\"] "
   ]
  },
  {
   "cell_type": "code",
   "execution_count": null,
   "id": "5b5cc54a",
   "metadata": {},
   "outputs": [],
   "source": [
    "from plotly import graph_objects as go \n",
    "\n",
    "\n",
    "\n",
    "\n",
    "def choroplth_map(occupation, data):\n",
    "    fig = go.Figure(\n",
    "        go.Choroplethmapbox(\n",
    "            geojson= json_data,\n",
    "            locations= get_matches(occupation= occupation),\n",
    "            z= log_value(df= region_vacancies(occupation= occupation, json_data= json_data), value= \"VACANCIES\"),\n",
    "            featureidkey= \"properties.ref:se:länskod\",\n",
    "            colorscale=\"blues\",\n",
    "            marker_opacity = 0.9,\n",
    "            marker_line_width = 0.4,\n",
    "            marker_line_color = 'darkgrey',\n",
    "            text= region_vacancies(occupation= occupation)[\"WORKPLACE_REGION\"],\n",
    "            customdata= region_vacancies(occupation=occupation)[\"VACANCIES\"],\n",
    "            hovertemplate= \"<b>%{text}</b><br>Total vacancies: %{customdata}<extra></extra>\",\n",
    "            showscale= False\n",
    "        )\n",
    "    )\n",
    "    \n",
    "    fig.update_layout(\n",
    "        title = dict(\n",
    "            text=f\"\"\"\n",
    "                <b>Antal lediga tjänster\n",
    "                <br>för yrket {occupation}</b> \n",
    "                <br>Totala lediga tjänster: {data['NUMBER_OF_VACANCIES'].sum()}\n",
    "                <br>Lediga tjänster som är \n",
    "                <br>ej specificerad regioner: {data.query(\"WORKPLACE_REGION == 'ej specificerad'\")[\"NUMBER_OF_VACANCIES\"].sum()}\"\"\",\n",
    "                font= dict(size= 14)\n",
    "        ),\n",
    "        mapbox= dict(center= dict(lat= 62.6952, lon= 13.9149), style= \"white-bg\", zoom= 3.5),\n",
    "        margin= dict(r=0, t= 50, l= 0, b= 10),\n",
    "        dragmode= False,\n",
    "        width= 500,\n",
    "        height= 530\n",
    "    )\n",
    "    \n",
    "    return fig"
   ]
  },
  {
   "cell_type": "code",
   "execution_count": null,
   "id": "c557d456",
   "metadata": {},
   "outputs": [],
   "source": [
    "fig = choroplth_map(occupation= \"data/it\", data = data_it)\n",
    "\n",
    "fig.show()"
   ]
  }
 ],
 "metadata": {
  "kernelspec": {
   "display_name": "data_warehouse_grupp_9",
   "language": "python",
   "name": "python3"
  },
  "language_info": {
   "codemirror_mode": {
    "name": "ipython",
    "version": 3
   },
   "file_extension": ".py",
   "mimetype": "text/x-python",
   "name": "python",
   "nbconvert_exporter": "python",
   "pygments_lexer": "ipython3",
   "version": "3.13.7"
  }
 },
 "nbformat": 4,
 "nbformat_minor": 5
}
