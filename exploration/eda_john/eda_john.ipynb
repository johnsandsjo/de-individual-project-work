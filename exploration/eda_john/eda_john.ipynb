{
 "cells": [
  {
   "cell_type": "markdown",
   "id": "91be5827",
   "metadata": {},
   "source": [
    "## EDA John"
   ]
  },
  {
   "cell_type": "markdown",
   "id": "33275484",
   "metadata": {},
   "source": [
    "| Occupation field | Occupation field concept id |\n",
    "| ------- | ------- |\n",
    "| Säkerhet och bevakning | E7hm_BLq_fqZ |\n",
    "| Yrken med social inriktning | GazW_2TU_kJw |\n",
    "| Data/IT | apaJ_2ja_LuF |"
   ]
  },
  {
   "cell_type": "markdown",
   "id": "13216d4d",
   "metadata": {},
   "source": [
    "### naive implementation"
   ]
  },
  {
   "cell_type": "code",
   "execution_count": null,
   "id": "0717e6b0",
   "metadata": {},
   "outputs": [],
   "source": [
    "import requests\n",
    "import json\n",
    "\n",
    "url = \"https://jobsearch.api.jobtechdev.se/search\"\n",
    "params = {\n",
    "    'q': \"\", \n",
    "    'limit': 100\n",
    "    }\n",
    "headers = {\n",
    "    'accept': 'application/json'\n",
    "    }\n",
    "\n",
    "response = requests.get(url, params=params, headers=headers)\n",
    "response.raise_for_status()  # check for http errors\n",
    "\n",
    "json_response = json.loads(response.content.decode('utf8'))\n",
    "hits = json_response['hits']\n",
    "hits"
   ]
  },
  {
   "cell_type": "code",
   "execution_count": null,
   "id": "cc86a5fe",
   "metadata": {},
   "outputs": [],
   "source": [
    "print(hits[0].keys())"
   ]
  },
  {
   "cell_type": "code",
   "execution_count": null,
   "id": "8f461457",
   "metadata": {},
   "outputs": [],
   "source": [
    "#print(hits[0][\"occupation_field\"])\n",
    "for hit in hits:\n",
    "    concept = hit[\"occupation_field\"][\"concept_id\"]\n",
    "    if concept == \"E7hm_BLq_fqZ\" or concept == \"GazW_2TU_kJw\" or concept == \"apaJ_2ja_LuF\" or concept == \"6Hq3_tKo_V57\":\n",
    "        print(f\"{hit['headline']}, {hit['employer']['name']}, {hit['occupation_field']['label']}, {hit['occupation']['label']}\")"
   ]
  },
  {
   "cell_type": "markdown",
   "id": "db7c793e",
   "metadata": {},
   "source": [
    "title = {hit['occupation']['label']}\n",
    "occupational field = {hit['occupation_field']['label']}"
   ]
  },
  {
   "cell_type": "code",
   "execution_count": null,
   "id": "7fd32548",
   "metadata": {},
   "outputs": [],
   "source": [
    "hits_df = pd.DataFrame(hits)\n",
    "print(hits_df[\"relevance\"].value_counts())\n",
    "#print(hits[\"application_contacts\"])\n",
    "#print(f\"must_have = {type(hits[\"must_have\"])}\")\n",
    "#for hit in hits:\n",
    "#    print({hit[\"relevance\"]})\n",
    "#print(f\"must_have = {type(hits[\"must_have\"])}\")\n",
    "#print(f\"description = {type(hits[\"description\"])}\")"
   ]
  },
  {
   "cell_type": "code",
   "execution_count": null,
   "metadata": {},
   "outputs": [],
   "source": [
    "#contacts\n",
    "print(hits[0][\"application_contacts\"][0].keys())\n",
    "\n",
    "print(hits[0][\"description\"][\"text\"])"
   ]
  },
  {
   "cell_type": "code",
   "execution_count": null,
   "metadata": {},
   "outputs": [],
   "source": [
    "import pandas as pd\n",
    "url = \"https://jobsearch.api.jobtechdev.se/search\"\n",
    "params = {\n",
    "    'q': \"\", \n",
    "    'limit': 100\n",
    "    }\n",
    "headers = {\n",
    "    'accept': 'application/json'\n",
    "    }\n",
    "\n",
    "response = requests.get(url, params=params, headers=headers)\n",
    "response.raise_for_status()  # check for http errors\n",
    "\n",
    "json_response = json.loads(response.content.decode('utf8'))\n",
    "hits = json_response['hits']\n",
    "df = pd.DataFrame(hits)\n",
    "df[\"scope_of_work\"]"
   ]
  },
  {
   "cell_type": "code",
   "execution_count": null,
   "metadata": {},
   "outputs": [],
   "source": [
    "#check the dates fields\n",
    "import duckdb\n",
    "result = duckdb.query(\"\"\"--sql\n",
    "             with CTE AS (SELECT \n",
    "                CAST(publication_date AS DATE) AS publication_date,\n",
    "                CAST(application_deadline AS DATE) AS application_deadline,\n",
    "                CAST(last_publication_date AS DATE) AS last_publication_date\n",
    "             FROM df)\n",
    "             select \n",
    "                max(publication_date),\n",
    "                min(publication_date),\n",
    "                max(application_deadline),\n",
    "                min(application_deadline),\n",
    "                max(last_publication_date),\n",
    "                min(last_publication_date)\n",
    "             from cte\n",
    "\"\"\")\n",
    "result.df()"
   ]
  },
  {
   "cell_type": "code",
   "execution_count": null,
   "metadata": {},
   "outputs": [],
   "source": [
    "#check the scope fields\n",
    "import duckdb\n",
    "result2 = duckdb.query(\"\"\"--sql\n",
    "        select \n",
    "            scope_of_work,                    \n",
    "        from df\n",
    "\"\"\")\n",
    "result2.df()"
   ]
  },
  {
   "cell_type": "markdown",
   "id": "9d50fb98",
   "metadata": {},
   "source": [
    "## Trying other endpoints in order to get more than 1900 results"
   ]
  },
  {
   "cell_type": "code",
   "execution_count": null,
   "id": "4a9a1381",
   "metadata": {},
   "outputs": [],
   "source": [
    "url = \"https://jobstream.api.jobtechdev.se/snapshot\"\n",
    "\n",
    "response = requests.get(url)\n",
    "response.raise_for_status()  # check for http errors\n",
    "\n",
    "json_response = json.loads(response.content)\n",
    "json_response"
   ]
  },
  {
   "cell_type": "code",
   "execution_count": null,
   "id": "2b15ccf1",
   "metadata": {},
   "outputs": [],
   "source": [
    "len(json_response)"
   ]
  },
  {
   "cell_type": "code",
   "execution_count": null,
   "id": "57ccdb67",
   "metadata": {},
   "outputs": [],
   "source": [
    "json_response[0][\"workplace_address\"]"
   ]
  },
  {
   "cell_type": "code",
   "execution_count": null,
   "id": "87c89004",
   "metadata": {},
   "outputs": [],
   "source": [
    "json_response[0].keys()"
   ]
  },
  {
   "cell_type": "markdown",
   "id": "d1827309",
   "metadata": {},
   "source": [
    "**Comparing with jobsearch keys**\n",
    "\n",
    "dict_keys(['relevance', 'id', 'external_id', 'original_id', 'label', 'webpage_url', 'logo_url', 'headline', 'application_deadline', 'number_of_vacancies', 'description', 'employment_type', 'salary_type', 'salary_description', 'duration', 'working_hours_type', 'scope_of_work', 'access', 'employer', 'application_details', 'experience_required', 'access_to_own_car', 'driving_license_required', 'driving_license', 'occupation', 'occupation_group', 'occupation_field', 'workplace_address', 'must_have', 'nice_to_have', 'application_contacts', 'publication_date', 'last_publication_date', 'removed', 'removed_date', 'source_type', 'timestamp'])"
   ]
  },
  {
   "cell_type": "code",
   "execution_count": null,
   "id": "cf144806",
   "metadata": {},
   "outputs": [],
   "source": [
    "count = 0\n",
    "all_ids = []\n",
    "for ad in json_response:\n",
    "    #print(ad[\"headline\"])\n",
    "    #print(ad[\"occupation_field\"][\"concept_id\"])\n",
    "    if ad[\"occupation_field\"][\"concept_id\"] == 'E7hm_BLq_fqZ' or ad[\"occupation_field\"][\"concept_id\"] == 'GazW_2TU_kJw' or ad[\"occupation_field\"][\"concept_id\"] == 'apaJ_2ja_LuF':\n",
    "       #all_ids.append(ad[\"id\"])\n",
    "       all_ids.append(ad[\"id\"])\n",
    "    #print(ad[\"headline\"])\n",
    "    #print(ad[\"occupation_field\"])\n",
    "len(all_ids)"
   ]
  },
  {
   "cell_type": "code",
   "execution_count": null,
   "id": "cffed7d3",
   "metadata": {},
   "outputs": [],
   "source": [
    "url = \"https://jobstream.api.jobtechdev.se/stream\"\n",
    "params = {\n",
    "    'date': \"2025-09-17T00:00:00\",\n",
    "    \"occupation-concept-id\": {\"E7hm_BLq_fqZ\", \"GazW_2TU_kJw\", \"apaJ_2ja_LuF\"}\n",
    "    }\n",
    "headers = {\n",
    "    'accept': 'application/json'\n",
    "    }\n",
    "\n",
    "response = requests.get(url, params=params, headers=headers)\n",
    "response.raise_for_status()  # check for http errors\n",
    "\n",
    "json_response = json.loads(response.content.decode('utf8'))\n",
    "len(json_response)"
   ]
  },
  {
   "cell_type": "code",
   "execution_count": null,
   "id": "bead394e",
   "metadata": {},
   "outputs": [],
   "source": [
    "json_response[0].keys()"
   ]
  },
  {
   "cell_type": "code",
   "execution_count": null,
   "id": "172ec763",
   "metadata": {},
   "outputs": [],
   "source": [
    "count = 0\n",
    "for ad in json_response:\n",
    "    print(ad[\"removed\"], ad[\"removed_date\"])\n",
    "    count += 1\n",
    "    if count > 20:\n",
    "        break"
   ]
  },
  {
   "cell_type": "code",
   "execution_count": null,
   "id": "d02ea6a7",
   "metadata": {},
   "outputs": [],
   "source": [
    "count = 0\n",
    "for ad in json_response:\n",
    "    if ad[\"removed\"]:\n",
    "        print(ad[\"removed\"], ad[\"removed_date\"])"
   ]
  },
  {
   "cell_type": "code",
   "execution_count": null,
   "id": "9e311b6b",
   "metadata": {},
   "outputs": [],
   "source": [
    "count = 0\n",
    "for ad in json_response:\n",
    "    print(ad[\"occupation_field\"])\n",
    "    count += 1\n",
    "    if count > 20:\n",
    "        break"
   ]
  }
 ],
 "metadata": {
  "kernelspec": {
   "display_name": "data_warehouse_grupp_9 (3.12.5)",
   "language": "python",
   "name": "python3"
  },
  "language_info": {
   "codemirror_mode": {
    "name": "ipython",
    "version": 3
   },
   "file_extension": ".py",
   "mimetype": "text/x-python",
   "name": "python",
   "nbconvert_exporter": "python",
   "pygments_lexer": "ipython3",
   "version": "3.12.5"
  }
 },
 "nbformat": 4,
 "nbformat_minor": 5
}
